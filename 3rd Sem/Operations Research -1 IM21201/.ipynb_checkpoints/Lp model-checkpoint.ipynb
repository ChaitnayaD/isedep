{
 "cells": [
  {
   "cell_type": "code",
   "execution_count": 30,
   "id": "ca3f8c63",
   "metadata": {},
   "outputs": [],
   "source": [
    "from pulp import *\n",
    "import pandas as pd\n"
   ]
  },
  {
   "cell_type": "code",
   "execution_count": 31,
   "id": "1523f69b",
   "metadata": {},
   "outputs": [],
   "source": [
    "#create a model\n",
    "Lp_prob=LpProblem('Wyndor,LpMaximixe')\n",
    "#Lp_prob=LpProblem('Wyndor,LpMinimize')\n"
   ]
  },
  {
   "cell_type": "code",
   "execution_count": 32,
   "id": "327a183f",
   "metadata": {},
   "outputs": [],
   "source": [
    "#Decision Variables\n",
    "x=LpVariable(\"x\",lowBound=0)\n",
    "y=LpVariable(\"y\",lowBound=0)"
   ]
  },
  {
   "cell_type": "code",
   "execution_count": 33,
   "id": "cde36a4e",
   "metadata": {},
   "outputs": [],
   "source": [
    "#objective function \n",
    "Lp_prob += 3*x+5*y"
   ]
  },
  {
   "cell_type": "code",
   "execution_count": 34,
   "id": "3947a8d1",
   "metadata": {},
   "outputs": [],
   "source": [
    "#constraints\n",
    "Lp_prob += x<=4\n",
    "Lp_prob += 2*y<=12\n",
    "Lp_prob += 3*x+2*y<=18"
   ]
  },
  {
   "cell_type": "code",
   "execution_count": 35,
   "id": "8fea54aa",
   "metadata": {},
   "outputs": [
    {
     "name": "stdout",
     "output_type": "stream",
     "text": [
      "Wyndor,LpMaximixe:\n",
      "MINIMIZE\n",
      "3*x + 5*y + 0\n",
      "SUBJECT TO\n",
      "_C1: x <= 4\n",
      "\n",
      "_C2: 2 y <= 12\n",
      "\n",
      "_C3: 3 x + 2 y <= 18\n",
      "\n",
      "VARIABLES\n",
      "x Continuous\n",
      "y Continuous\n",
      "\n"
     ]
    }
   ],
   "source": [
    "print(Lp_prob)"
   ]
  },
  {
   "cell_type": "code",
   "execution_count": 38,
   "id": "bd4a3dc4",
   "metadata": {},
   "outputs": [
    {
     "name": "stdout",
     "output_type": "stream",
     "text": [
      "1\n",
      "Optimal\n"
     ]
    }
   ],
   "source": [
    "status=Lp_prob.solve()\n",
    "print(status)\n",
    "print(LpStatus[status])"
   ]
  },
  {
   "cell_type": "code",
   "execution_count": 39,
   "id": "9587cf77",
   "metadata": {},
   "outputs": [
    {
     "name": "stdout",
     "output_type": "stream",
     "text": [
      "0.0 0.0 0.0\n"
     ]
    }
   ],
   "source": [
    "print(value(x),value(y),value(Lp_prob.objective))"
   ]
  },
  {
   "cell_type": "code",
   "execution_count": null,
   "id": "896eb508",
   "metadata": {},
   "outputs": [],
   "source": []
  },
  {
   "cell_type": "code",
   "execution_count": null,
   "id": "f176faf0",
   "metadata": {},
   "outputs": [],
   "source": []
  }
 ],
 "metadata": {
  "kernelspec": {
   "display_name": "Python 3",
   "language": "python",
   "name": "python3"
  },
  "language_info": {
   "codemirror_mode": {
    "name": "ipython",
    "version": 3
   },
   "file_extension": ".py",
   "mimetype": "text/x-python",
   "name": "python",
   "nbconvert_exporter": "python",
   "pygments_lexer": "ipython3",
   "version": "3.8.8"
  }
 },
 "nbformat": 4,
 "nbformat_minor": 5
}
