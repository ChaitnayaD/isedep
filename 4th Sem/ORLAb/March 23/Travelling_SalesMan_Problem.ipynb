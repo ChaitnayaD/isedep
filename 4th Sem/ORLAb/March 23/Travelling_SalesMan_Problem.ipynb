{
 "cells": [
  {
   "cell_type": "markdown",
   "id": "8e21c057",
   "metadata": {},
   "source": [
    "Solve the TSP problem to find the sequence with the shortest distance traveled.\n",
    "The distance matrix for the 6 cities (A,B,C,D,E,F) is given below"
   ]
  },
  {
   "cell_type": "code",
   "execution_count": 1,
   "id": "6bce386e",
   "metadata": {},
   "outputs": [],
   "source": [
    "import sys\n",
    "try:\n",
    "    import docplex.mp\n",
    "except:\n",
    "    if hasattr(sys, 'real_prefix'):\n",
    "        #we are in a virtual env.\n",
    "        !pip install docplex\n",
    "    else:\n",
    "        !pip install --user docplex"
   ]
  },
  {
   "cell_type": "code",
   "execution_count": 2,
   "id": "1826e355",
   "metadata": {},
   "outputs": [],
   "source": [
    "distance_matrix=[[0,12,29,22,13,24],\n",
    "                 [12,0,19,3,25,6],\n",
    "                 [29,19,0,21,23,28],\n",
    "                 [22,3,21,0,4,5],\n",
    "                 [13,25,23,4,0,16],\n",
    "                 [24,6,28,5,16,0]]"
   ]
  },
  {
   "cell_type": "code",
   "execution_count": 3,
   "id": "1bad206b",
   "metadata": {},
   "outputs": [
    {
     "data": {
      "text/plain": [
       "29"
      ]
     },
     "execution_count": 3,
     "metadata": {},
     "output_type": "execute_result"
    }
   ],
   "source": [
    "distance_matrix[0][2]\n"
   ]
  },
  {
   "cell_type": "code",
   "execution_count": 4,
   "id": "75ebce45",
   "metadata": {},
   "outputs": [],
   "source": [
    "from docplex.mp.model import Model\n"
   ]
  },
  {
   "cell_type": "code",
   "execution_count": null,
   "id": "b52ad269",
   "metadata": {},
   "outputs": [],
   "source": [
    "model = Model(\"TSP\")\n"
   ]
  },
  {
   "cell_type": "code",
   "execution_count": null,
   "id": "7b8d1926",
   "metadata": {
    "scrolled": true
   },
   "outputs": [],
   "source": [
    "x=model.binary_list()"
   ]
  },
  {
   "cell_type": "code",
   "execution_count": null,
   "id": "9d595924",
   "metadata": {},
   "outputs": [],
   "source": [
    " for i in range(1,7):\n",
    "    for j in range(1,7):\n",
    "        print(x[i,j])"
   ]
  },
  {
   "cell_type": "code",
   "execution_count": null,
   "id": "cb501caf",
   "metadata": {},
   "outputs": [],
   "source": [
    " #constraints\n",
    "for i in range(1,7):\n",
    "    for j in range(1,7):\n",
    "        if j!=i:\n",
    "            model.add_constraint(model.sum(x[i, j]) == 1)\n",
    "            \n",
    "\n",
    "            "
   ]
  },
  {
   "cell_type": "code",
   "execution_count": null,
   "id": "722caec8",
   "metadata": {},
   "outputs": [],
   "source": [
    "for i in range(1,7):\n",
    "    for j in range(1,7):\n",
    "        k= sum(x[i,j]*distance_matrix[i-1,j-1])\n",
    "\n",
    "model.minimize(k)\n",
    "        \n",
    " \n",
    "\n",
    "\n"
   ]
  },
  {
   "cell_type": "code",
   "execution_count": null,
   "id": "e8b58200",
   "metadata": {},
   "outputs": [],
   "source": []
  },
  {
   "cell_type": "code",
   "execution_count": null,
   "id": "7c43180b",
   "metadata": {},
   "outputs": [],
   "source": []
  },
  {
   "cell_type": "code",
   "execution_count": null,
   "id": "2a0b284b",
   "metadata": {},
   "outputs": [],
   "source": []
  },
  {
   "cell_type": "code",
   "execution_count": null,
   "id": "4c1947e3",
   "metadata": {},
   "outputs": [],
   "source": []
  },
  {
   "cell_type": "code",
   "execution_count": null,
   "id": "783a13ee",
   "metadata": {},
   "outputs": [],
   "source": []
  }
 ],
 "metadata": {
  "kernelspec": {
   "display_name": "Python 3",
   "language": "python",
   "name": "python3"
  },
  "language_info": {
   "codemirror_mode": {
    "name": "ipython",
    "version": 3
   },
   "file_extension": ".py",
   "mimetype": "text/x-python",
   "name": "python",
   "nbconvert_exporter": "python",
   "pygments_lexer": "ipython3",
   "version": "3.8.8"
  }
 },
 "nbformat": 4,
 "nbformat_minor": 5
}
