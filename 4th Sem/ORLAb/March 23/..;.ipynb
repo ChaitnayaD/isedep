{
 "cells": [
  {
   "cell_type": "code",
   "execution_count": 1,
   "id": "ce5c5325",
   "metadata": {},
   "outputs": [
    {
     "ename": "SyntaxError",
     "evalue": "invalid syntax (<ipython-input-1-23422de365f4>, line 75)",
     "output_type": "error",
     "traceback": [
      "\u001b[1;36m  File \u001b[1;32m\"<ipython-input-1-23422de365f4>\"\u001b[1;36m, line \u001b[1;32m75\u001b[0m\n\u001b[1;33m    In line 10 names of the places to visit are informed. In line 17 distances are informed in an upper triangular matr\u001b[0m\n\u001b[1;37m       ^\u001b[0m\n\u001b[1;31mSyntaxError\u001b[0m\u001b[1;31m:\u001b[0m invalid syntax\n"
     ]
    }
   ],
   "source": [
    "from itertools import product\n",
    "from sys import stdout as out\n",
    "from mip import Model, xsum, minimize, BINARY\n",
    "\n",
    "# names of places to visit\n",
    "places = ['Antwerp', 'Bruges', 'C-Mine', 'Dinant', 'Ghent',\n",
    "          'Grand-Place de Bruxelles', 'Hasselt', 'Leuven',\n",
    "          'Mechelen', 'Mons', 'Montagne de Bueren', 'Namur',\n",
    "          'Remouchamps', 'Waterloo']\n",
    "\n",
    "# distances in an upper triangular matrix\n",
    "dists = [[83, 81, 113, 52, 42, 73, 44, 23, 91, 105, 90, 124, 57],\n",
    "         [161, 160, 39, 89, 151, 110, 90, 99, 177, 143, 193, 100],\n",
    "         [90, 125, 82, 13, 57, 71, 123, 38, 72, 59, 82],\n",
    "         [123, 77, 81, 71, 91, 72, 64, 24, 62, 63],\n",
    "         [51, 114, 72, 54, 69, 139, 105, 155, 62],\n",
    "         [70, 25, 22, 52, 90, 56, 105, 16],\n",
    "         [45, 61, 111, 36, 61, 57, 70],\n",
    "         [23, 71, 67, 48, 85, 29],\n",
    "         [74, 89, 69, 107, 36],\n",
    "         [117, 65, 125, 43],\n",
    "         [54, 22, 84],\n",
    "         [60, 44],\n",
    "         [97],\n",
    "         []]\n",
    "\n",
    "# number of nodes and list of vertices\n",
    "n, V = len(dists), set(range(len(dists)))\n",
    "\n",
    "# distances matrix\n",
    "c = [[0 if i == j\n",
    "      else dists[i][j-i-1] if j > i\n",
    "      else dists[j][i-j-1]\n",
    "      for j in V] for i in V]\n",
    "\n",
    "model = Model()\n",
    "\n",
    "# binary variables indicating if arc (i,j) is used on the route or not\n",
    "x = [[model.add_var(var_type=BINARY) for j in V] for i in V]\n",
    "\n",
    "# continuous variable to prevent subtours: each city will have a\n",
    "# different sequential id in the planned route except the first one\n",
    "y = [model.add_var() for i in V]\n",
    "\n",
    "# objective function: minimize the distance\n",
    "model.objective = minimize(xsum(c[i][j]*x[i][j] for i in V for j in V))\n",
    "\n",
    "# constraint : leave each city only once\n",
    "for i in V:\n",
    "    model += xsum(x[i][j] for j in V - {i}) == 1\n",
    "\n",
    "# constraint : enter each city only once\n",
    "for i in V:\n",
    "    model += xsum(x[j][i] for j in V - {i}) == 1\n",
    "\n",
    "# subtour elimination\n",
    "for (i, j) in product(V - {0}, V - {0}):\n",
    "    if i != j:\n",
    "        model += y[i] - (n+1)*x[i][j] >= y[j]-n\n",
    "\n",
    "# optimizing\n",
    "model.optimize()\n",
    "\n",
    "# checking if a solution was found\n",
    "if model.num_solutions:\n",
    "    out.write('route with total distance %g found: %s'\n",
    "              % (model.objective_value, places[0]))\n",
    "    nc = 0\n",
    "    while True:\n",
    "        nc = [i for i in V if x[nc][i].x >= 0.99][0]\n",
    "        out.write(' -> %s' % places[nc])\n",
    "        if nc == 0:\n",
    "            break\n",
    "    out.write('\\n')\n",
    "In line 10 names of the places to visit are informed. In line 17 distances are informed in an upper triangular matr"
   ]
  },
  {
   "cell_type": "code",
   "execution_count": null,
   "id": "afd17ace",
   "metadata": {},
   "outputs": [],
   "source": []
  }
 ],
 "metadata": {
  "kernelspec": {
   "display_name": "Python 3",
   "language": "python",
   "name": "python3"
  },
  "language_info": {
   "codemirror_mode": {
    "name": "ipython",
    "version": 3
   },
   "file_extension": ".py",
   "mimetype": "text/x-python",
   "name": "python",
   "nbconvert_exporter": "python",
   "pygments_lexer": "ipython3",
   "version": "3.8.8"
  }
 },
 "nbformat": 4,
 "nbformat_minor": 5
}
