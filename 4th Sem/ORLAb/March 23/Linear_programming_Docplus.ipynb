{
 "cells": [
  {
   "cell_type": "markdown",
   "id": "c73d9491",
   "metadata": {},
   "source": [
    "Example: a production problem\n",
    "In this topic, you’ll analyze a simple production problem in terms of decision variables, the objective function, and constraints.\n",
    "You’ll learn how to write an LP formulation of this problem, and how to construct a graphical representation of the model. You’ll also learn what feasible, optimal, infeasible, and unbounded mean in the context of LP.\n",
    "\n",
    "Problem description: telephone production\n",
    "A telephone company produces and sells two kinds of telephones, namely desk phones and cellular phones.\n",
    "\n",
    "Each type of phone is assembled and painted by the company. The objective is to maximize profit, and the company has to produce at least 100 of each type of phone.\n",
    "\n",
    "There are limits in terms of the company’s production capacity, and the company has to calculate the optimal number of each type of phone to produce, while not exceeding the capacity of the plant.\n",
    "\n",
    "Writing a descriptive model\n",
    "It is good practice to start with a descriptive model before attempting to write a mathematical model. In order to come up with a descriptive model, you should consider what the decision variables, objectives, and constraints for the business problem are, and write these down in words.\n",
    "\n",
    "In order to come up with a descriptive model, consider the following questions:\n",
    "\n",
    "What are the decision variables?\n",
    "What is the objective?\n",
    "What are the constraints?\n",
    "Telephone production: a descriptive model\n",
    "A possible descriptive model of the telephone production problem is as follows:\n",
    "\n",
    "Decision variables:\n",
    "Number of desk phones produced (DeskProduction)\n",
    "Number of cellular phones produced (CellProduction)\n",
    "Objective: Maximize profit\n",
    "Constraints:\n",
    "The DeskProduction should be greater than or equal to 100.\n",
    "The CellProduction should be greater than or equal to 100.\n",
    "The assembly time for DeskProduction plus the assembly time for CellProduction should not exceed 400 hours.\n",
    "The painting time for DeskProduction plus the painting time for CellProduction should not exceed 490 hours.\n",
    "Writing a mathematical model\n",
    "Convert the descriptive model into a mathematical model:\n",
    "\n",
    "Use the two decision variables DeskProduction and CellProduction\n",
    "Use the data given in the problem description (remember to convert minutes to hours where appropriate)\n",
    "Write the objective as a mathematical expression\n",
    "Write the constraints as mathematical expressions (use “=”, “<=”, or “>=”, and name the constraints to describe their purpose)\n",
    "Define the domain for the decision variables\n",
    "Telephone production: a mathematical model\n",
    "To express the last two constraints, we model assembly time and painting time as linear combinations of the two productions, resulting in the following mathematical model:\n",
    "\n",
    "𝑚𝑎𝑥𝑖𝑚𝑖𝑧𝑒:  12 𝑑𝑒𝑠𝑘_𝑝𝑟𝑜𝑑𝑢𝑐𝑡𝑖𝑜𝑛+20 𝑐𝑒𝑙𝑙_𝑝𝑟𝑜𝑑𝑢𝑐𝑡𝑖𝑜𝑛𝑠𝑢𝑏𝑗𝑒𝑐𝑡 𝑡𝑜:  𝑑𝑒𝑠𝑘_𝑝𝑟𝑜𝑑𝑢𝑐𝑡𝑖𝑜𝑛>=100  𝑐𝑒𝑙𝑙_𝑝𝑟𝑜𝑑𝑢𝑐𝑡𝑖𝑜𝑛>=100  0.2 𝑑𝑒𝑠𝑘_𝑝𝑟𝑜𝑑𝑢𝑐𝑡𝑖𝑜𝑛+0.4 𝑐𝑒𝑙𝑙_𝑝𝑟𝑜𝑑𝑢𝑐𝑡𝑖𝑜𝑛<=400  0.5 𝑑𝑒𝑠𝑘_𝑝𝑟𝑜𝑑𝑢𝑐𝑡𝑖𝑜𝑛+0.4 𝑐𝑒𝑙𝑙_𝑝𝑟𝑜𝑑𝑢𝑐𝑡𝑖𝑜𝑛<=490\n",
    "Using DOcplex to formulate the mathematical model in Python\n",
    "Use the DOcplex Python library to write the mathematical model in Python. This is done in four steps:\n",
    "\n",
    "create a instance of docplex.mp.Model to hold all model objects\n",
    "create decision variables,\n",
    "create linear constraints,\n",
    "finally, define the objective.\n",
    "But first, we have to import the class Model from the docplex module.\n",
    "\n",
    "Use IBM Decision Optimization CPLEX Modeling for Python\n",
    "Let's use the DOcplex Python library to write the mathematical model in Python."
   ]
  },
  {
   "cell_type": "code",
   "execution_count": 1,
   "id": "85c82d58",
   "metadata": {},
   "outputs": [],
   "source": [
    "import sys\n",
    "try:\n",
    "    import docplex.mp\n",
    "except:\n",
    "    if hasattr(sys, 'real_prefix'):\n",
    "        #we are in a virtual env.\n",
    "        !pip install docplex\n",
    "    else:\n",
    "        !pip install --user docplex\n",
    "        "
   ]
  },
  {
   "cell_type": "code",
   "execution_count": 2,
   "id": "1fd29d46",
   "metadata": {},
   "outputs": [],
   "source": [
    "url = None\n",
    "key = None"
   ]
  },
  {
   "cell_type": "code",
   "execution_count": 3,
   "id": "5b456875",
   "metadata": {},
   "outputs": [],
   "source": [
    "# first import the Model class from docplex.mp\n",
    "from docplex.mp.model import Model\n",
    "\n",
    "# create one model instance, with a name\n",
    "m = Model(name='telephone_production')"
   ]
  },
  {
   "cell_type": "code",
   "execution_count": 4,
   "id": "77abed4f",
   "metadata": {},
   "outputs": [],
   "source": [
    "# by default, all variables in Docplex have a lower bound of 0 and infinite upper bound\n",
    "desk = m.continuous_var(name='desk')\n",
    "cell = m.continuous_var(name='cell')"
   ]
  },
  {
   "cell_type": "code",
   "execution_count": 5,
   "id": "92c54389",
   "metadata": {},
   "outputs": [],
   "source": [
    "# write constraints\n",
    "# constraint #1: desk production is greater than 100\n",
    "m.add_constraint(desk >= 100)\n",
    "\n",
    "# constraint #2: cell production is greater than 100\n",
    "m.add_constraint(cell >= 100)\n",
    "\n",
    "# constraint #3: assembly time limit\n",
    "ct_assembly = m.add_constraint( 0.2 * desk + 0.4 * cell <= 400)\n",
    "\n",
    "# constraint #4: paiting time limit\n",
    "ct_painting = m.add_constraint( 0.5 * desk + 0.4 * cell <= 490)"
   ]
  },
  {
   "cell_type": "code",
   "execution_count": 6,
   "id": "051d0480",
   "metadata": {},
   "outputs": [],
   "source": [
    "m.maximize(12 * desk + 20 * cell)"
   ]
  },
  {
   "cell_type": "code",
   "execution_count": 7,
   "id": "ea55c32d",
   "metadata": {},
   "outputs": [
    {
     "name": "stdout",
     "output_type": "stream",
     "text": [
      "Model: telephone_production\n",
      " - number of variables: 2\n",
      "   - binary=0, integer=0, continuous=2\n",
      " - number of constraints: 4\n",
      "   - linear=4\n",
      " - parameters: defaults\n",
      " - objective: maximize\n",
      " - problem type is: LP\n"
     ]
    }
   ],
   "source": [
    "m.print_information()"
   ]
  },
  {
   "cell_type": "code",
   "execution_count": 8,
   "id": "87a785f4",
   "metadata": {},
   "outputs": [
    {
     "name": "stdout",
     "output_type": "stream",
     "text": [
      "objective: 20600.000\n",
      "  desk=300.000\n",
      "  cell=850.000\n"
     ]
    }
   ],
   "source": [
    "s = m.solve(url=url, key=key)\n",
    "m.print_solution()"
   ]
  },
  {
   "cell_type": "code",
   "execution_count": null,
   "id": "c990acaf",
   "metadata": {},
   "outputs": [],
   "source": []
  }
 ],
 "metadata": {
  "kernelspec": {
   "display_name": "Python 3",
   "language": "python",
   "name": "python3"
  },
  "language_info": {
   "codemirror_mode": {
    "name": "ipython",
    "version": 3
   },
   "file_extension": ".py",
   "mimetype": "text/x-python",
   "name": "python",
   "nbconvert_exporter": "python",
   "pygments_lexer": "ipython3",
   "version": "3.8.8"
  }
 },
 "nbformat": 4,
 "nbformat_minor": 5
}
