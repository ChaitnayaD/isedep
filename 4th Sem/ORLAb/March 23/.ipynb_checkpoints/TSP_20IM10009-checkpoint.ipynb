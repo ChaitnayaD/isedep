{
 "cells": [
  {
   "cell_type": "markdown",
   "id": "c829a3f2",
   "metadata": {},
   "source": [
    "Q. Solve the TSP problem to find the sequence with the shortest distance traveled.\n",
    "The distance matrix for the 6 cities (A,B,C,D,E,F) is given below: "
   ]
  },
  {
   "cell_type": "raw",
   "id": "314e9c27",
   "metadata": {},
   "source": [
    "Distance Matrix -\n",
    "  A B  C  D  E  F\n",
    "A  0 12 29 22 13 24\n",
    "B 12 0  19 3  25 6\n",
    "C 29 19  0 21 23 28\n",
    "D 22 3  21 0   4 5\n",
    "E 13 25 23 4   0 16\n",
    "F 24 6  28 5  16  0"
   ]
  },
  {
   "cell_type": "code",
   "execution_count": 425,
   "id": "ced70a0c",
   "metadata": {},
   "outputs": [],
   "source": [
    "#installing docplex\n",
    "import sys\n",
    "try:\n",
    "    import docplex.mp\n",
    "except:\n",
    "    if hasattr(sys, 'real_prefix'):\n",
    "        #we are in a virtual env.\n",
    "        !pip install docplex\n",
    "    else:\n",
    "        !pip install --user docplex"
   ]
  },
  {
   "cell_type": "code",
   "execution_count": 426,
   "id": "7034224f",
   "metadata": {},
   "outputs": [],
   "source": [
    "url = None\n",
    "key = None"
   ]
  },
  {
   "cell_type": "code",
   "execution_count": 427,
   "id": "b5bcb9b9",
   "metadata": {},
   "outputs": [],
   "source": [
    "#importing the libraries\n",
    "from docplex.mp.model import Model\n",
    "import numpy as np\n",
    "import matplotlib.pyplot as plt\n",
    "from itertools import combinations\n"
   ]
  },
  {
   "cell_type": "code",
   "execution_count": 428,
   "id": "e556eab1",
   "metadata": {},
   "outputs": [],
   "source": [
    "n=6 #no of cities\n",
    "cities=[i for i in range(n)] \n",
    "paths =[(i,j) for i in cities for j in cities if i!=j]"
   ]
  },
  {
   "cell_type": "code",
   "execution_count": 429,
   "id": "7c271748",
   "metadata": {},
   "outputs": [],
   "source": [
    "distance={(0,0):0,(0,1):12,(0,2):29,(0,3):22,(0,4):13,(0,5):24,\n",
    "          (1,0):12,(1,1):0,(1,2):19,(1,3):3,(1,4):25,(1,5):6,\n",
    "          (2,0):29,(2,1):19,(2,2):0,(2,3):21,(2,4):23,(2,5):28,\n",
    "          (3,0):22,(3,1):3,(3,2):21,(3,3):0,(3,4):4,(3,5):5,\n",
    "          (4,0):13,(4,1):25,(4,2):23,(4,3):4,(4,4):0,(4,5):16,\n",
    "          (5,0):24,(5,1):6,(5,2):28,(5,3):5,(5,4):16,(5,5):0\n",
    "         }"
   ]
  },
  {
   "cell_type": "code",
   "execution_count": 430,
   "id": "ad1c9dc9",
   "metadata": {},
   "outputs": [],
   "source": [
    "mdl=Model('TSP')"
   ]
  },
  {
   "cell_type": "code",
   "execution_count": 431,
   "id": "e6d028df",
   "metadata": {},
   "outputs": [],
   "source": [
    "#decision variables\n",
    "x=mdl.binary_var_dict(paths,name='x')\n",
    "u= mdl.continuous_var_dict(keys=n,lb=1,ub=n,name='u',key_format=None)\n"
   ]
  },
  {
   "cell_type": "code",
   "execution_count": 432,
   "id": "001eb9c0",
   "metadata": {},
   "outputs": [],
   "source": [
    "#objective Function\n",
    "mdl.minimize(mdl.sum(distance[i]*x[i] for i in paths))\n"
   ]
  },
  {
   "cell_type": "code",
   "execution_count": 433,
   "id": "0254c859",
   "metadata": {},
   "outputs": [],
   "source": [
    "# Constraints\n",
    "#entry once\n",
    "for c in cities:\n",
    "    mdl.add_constraint(mdl.sum(x[(i,j)] for i,j in paths if i==c)==1, \n",
    "                       ctname='entryonce')\n",
    "    \n",
    "#exit once\n",
    "for c in cities:\n",
    "    mdl.add_constraint(mdl.sum(x[(i,j)] for i,j in paths if j==c)==1, \n",
    "                       ctname='exitonce')\n",
    "    \n",
    "#subtour elimination\n",
    "for i in range (n):\n",
    "    for j in range (n):\n",
    "        if i!=j and j!=1:\n",
    "            mdl.add_constraint(u[i]-u[j]+n*x[i,j]<=n-1)\n",
    "\n",
    "        \n"
   ]
  },
  {
   "cell_type": "code",
   "execution_count": 434,
   "id": "9c1d6d08",
   "metadata": {},
   "outputs": [
    {
     "name": "stdout",
     "output_type": "stream",
     "text": [
      "Model: TSP\n",
      " - number of variables: 36\n",
      "   - binary=30, integer=0, continuous=6\n",
      " - number of constraints: 37\n",
      "   - linear=37\n",
      " - parameters: defaults\n",
      " - objective: minimize\n",
      " - problem type is: MILP\n"
     ]
    }
   ],
   "source": [
    "mdl.print_information()"
   ]
  },
  {
   "cell_type": "code",
   "execution_count": 435,
   "id": "27a2881d",
   "metadata": {},
   "outputs": [
    {
     "name": "stdout",
     "output_type": "stream",
     "text": [
      "objective: 76\n",
      "  x_0_4=1\n",
      "  x_1_2=1\n",
      "  x_2_0=1\n",
      "  x_3_5=1\n",
      "  x_4_3=1\n",
      "  x_5_1=1\n",
      "  u_0=3.000\n",
      "  u_1=1.000\n",
      "  u_2=2.000\n",
      "  u_3=5.000\n",
      "  u_4=4.000\n",
      "  u_5=6.000\n"
     ]
    }
   ],
   "source": [
    "s = mdl.solve(url=url, key=key)\n",
    "mdl.print_solution()\n"
   ]
  },
  {
   "cell_type": "code",
   "execution_count": null,
   "id": "dc4210de",
   "metadata": {},
   "outputs": [],
   "source": []
  },
  {
   "cell_type": "code",
   "execution_count": null,
   "id": "8bce1ef0",
   "metadata": {},
   "outputs": [],
   "source": []
  },
  {
   "cell_type": "code",
   "execution_count": null,
   "id": "e7a346b8",
   "metadata": {},
   "outputs": [],
   "source": []
  }
 ],
 "metadata": {
  "kernelspec": {
   "display_name": "Python 3",
   "language": "python",
   "name": "python3"
  },
  "language_info": {
   "codemirror_mode": {
    "name": "ipython",
    "version": 3
   },
   "file_extension": ".py",
   "mimetype": "text/x-python",
   "name": "python",
   "nbconvert_exporter": "python",
   "pygments_lexer": "ipython3",
   "version": "3.8.8"
  }
 },
 "nbformat": 4,
 "nbformat_minor": 5
}
