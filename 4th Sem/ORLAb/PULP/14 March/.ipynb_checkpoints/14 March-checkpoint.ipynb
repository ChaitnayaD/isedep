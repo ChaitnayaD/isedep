{
 "cells": [
  {
   "cell_type": "code",
   "execution_count": null,
   "id": "617dfb23",
   "metadata": {},
   "outputs": [],
   "source": [
    "import pandas as pd\n",
    "import numpy as np\n",
    "import matplotlib.pylab as plt\n",
    "import seaborn as sns\n",
    "import pulp as p\n",
    "import random\n",
    "\n"
   ]
  },
  {
   "cell_type": "code",
   "execution_count": null,
   "id": "75183e92",
   "metadata": {},
   "outputs": [],
   "source": [
    "# Get the Node Locations\n",
    "location=pd.read_excel(\"DataFile.xlsx\",\"Nodes\",index_col=0)\n",
    "Y=location.columns.values[0]\n",
    "X=location.columns.values[1]\n",
    "n_point=len(location)\n",
    "\n"
   ]
  },
  {
   "cell_type": "code",
   "execution_count": null,
   "id": "05b37762",
   "metadata": {},
   "outputs": [],
   "source": [
    "# Get the Distance Matrix\n",
    "data=pd.read_excel(\"DataFile.xlsx\",\"Distance Matrix\",index_col=0)\n",
    "\n",
    "# Random Start/End Point; here the Depot is assumed to be the first Node\n",
    "vehicle_depot=0\n",
    "\n",
    "# Check TSP state\n",
    "plt.figure(figsize=(7,7))\n",
    "\n",
    "# Draw the problem state\n",
    "for i, row in location.iterrows():\n",
    "    if i == vehicle_depot:\n",
    "        plt.scatter(row[X], row[Y], c='r')\n",
    "        plt.text(row[X] + 0.33, row[Y] + 0.33, 'eV_Depot')\n",
    "    else:\n",
    "        plt.scatter(row[X], row[Y], c='black')\n",
    "        plt.text(row[X] + 0.33, row[Y] + 0.33, f'{i}')\n",
    "plt.title('Node Points: id')\n",
    "plt.xlabel(X)\n",
    "plt.ylabel(Y)\n",
    "plt.show()\n",
    "\n"
   ]
  },
  {
   "cell_type": "code",
   "execution_count": null,
   "id": "0af89b7a",
   "metadata": {},
   "outputs": [],
   "source": [
    "# Set the problem\n",
    "prob=p.LpProblem(\"MIP_TSP_Minimize_Small\",p.LpMinimize)\n",
    "\n",
    "# Set Variables\n",
    "x=p.LpVariable.dicts('x',((i,j) for i in range(n_point) for j in range(n_point)),lowBound=0,upBound=1,cat='Binary')\n",
    "u=p.LpVariable.dicts('u',(i for i in range(n_point)),lowBound=1,upBound=n_point,cat='Integer')\n",
    "\n",
    "# Set Objective Function\n",
    "prob+=p.lpSum(data.iloc[i,j]*x[i,j] for i in range(n_point) for j in range(n_point))\n",
    "\n",
    "# Set Constraints\n",
    "for i in range(n_point):\n",
    "    prob+=x[i,i]==0\n",
    "    prob+=p.lpSum(x[i,j] for j in range(n_point))==1\n",
    "    prob+=p.lpSum(x[j,i] for j in range(n_point))==1\n",
    "\n",
    "for i in range(n_point):\n",
    "    for j in range(n_point):\n",
    "        if i!=j and i!=vehicle_depot-1 and j!= vehicle_depot-1:\n",
    "            prob+=u[i]-u[j]+n_point*x[i,j]<=n_point-1\n",
    "    \n",
    "# Solve the problem\n",
    "status=prob.solve()\n",
    "\n",
    "# Output Status, Value of Objective Function\n",
    "#status\n",
    "#p.LpStatus[status]\n",
    "#p.value(prob.objective)\n",
    "\n"
   ]
  },
  {
   "cell_type": "code",
   "execution_count": null,
   "id": "eca3f25b",
   "metadata": {},
   "outputs": [],
   "source": [
    "#Extracting the Final Path\n",
    "for v in prob.variables():\n",
    "    z=v.varValue\n",
    "    if z==1:\n",
    "        print(v.name, \"=\", v.varValue)\n",
    "#These final value indexes of x are 1 less than the actual Node indexed values\n",
    "\n",
    "#for i in range(n_point):\n",
    "#    print(u[i].varValue)\n",
    "# Minimum Objective Value:- 47.46374386\n",
    "\n",
    "# Draw the optimal route\n",
    "plt.figure(figsize=(9,9))\n",
    "\n",
    "for i, row in location.iterrows():\n",
    "    if i == vehicle_depot:\n",
    "        plt.scatter(row[X], row[Y], c='r')\n",
    "        plt.text(row[X] + 0.33, row[Y] + 0.33, 'Depot')\n",
    "    else:\n",
    "        plt.scatter(row[X], row[Y], c='black')\n",
    "        plt.text(row[X] + 0.33, row[Y] + 0.33,f'{i}')\n",
    "plt.title('TSP Tour')\n",
    "plt.xlabel(X)\n",
    "plt.ylabel(Y)\n",
    "\n",
    "routes = [(i, j) for i in range(n_point) for j in range(n_point) if p.value(x[i, j]) == 1]\n",
    "arrowprops = dict(arrowstyle='->', connectionstyle='arc3', edgecolor='blue')\n",
    "for i, j in routes:\n",
    "    plt.annotate('', xy=[location.iloc[j][X], location.iloc[j][Y]], xytext=[location.iloc[i][X], location.iloc[i][Y]], arrowprops=arrowprops)    \n",
    "plt.show()"
   ]
  }
 ],
 "metadata": {
  "kernelspec": {
   "display_name": "Python 3",
   "language": "python",
   "name": "python3"
  },
  "language_info": {
   "codemirror_mode": {
    "name": "ipython",
    "version": 3
   },
   "file_extension": ".py",
   "mimetype": "text/x-python",
   "name": "python",
   "nbconvert_exporter": "python",
   "pygments_lexer": "ipython3",
   "version": "3.8.8"
  }
 },
 "nbformat": 4,
 "nbformat_minor": 5
}
